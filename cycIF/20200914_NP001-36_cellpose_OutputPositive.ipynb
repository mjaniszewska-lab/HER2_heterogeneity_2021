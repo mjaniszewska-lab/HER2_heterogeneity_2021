{
 "cells": [
  {
   "cell_type": "code",
   "execution_count": null,
   "metadata": {},
   "outputs": [],
   "source": [
    "#load libraries\n",
    "import pandas as pd\n",
    "import matplotlib.pyplot as plt\n",
    "import numpy as np\n",
    "import os\n",
    "import copy\n",
    "import seaborn as sns"
   ]
  },
  {
   "cell_type": "markdown",
   "metadata": {},
   "source": [
    "# Notes\n",
    "\n",
    "thresholding was done on Her2B TMA and applied to biopsies, with some tweaking due to brighter satining in bxs\n",
    "\n",
    "update: 10/10 twaek bxs more\n",
    "\n",
    "the tumor markers were set conservatively, so that they would not result in false positves\n",
    "\n",
    "therefore we must pool the diff states\n",
    "\n",
    "update 7/9: try CD44 perinuc3 (too much spillover)\n",
    "\n",
    "update 10/10: try HER2 top 25% of pixels, vim/CD44 adjnuc2, and NP013 through NP020 subtract some CK7 from Vim.\n",
    "\n",
    "## Notes on staining\n",
    "\n",
    "CD44 was LamAC on K169, and super bright on K174       ColI staining is variable - looks good on SD51   ColIV weak - try 1.5 on all\n",
    "\n",
    "PDPN- SD51 has very high BG - diff ab?   Vim weak on K169   check aSMA on a diff scene (not 2)   PgR - K172 has bright spots\n",
    "\n",
    "ER/PGR - diff spot on scene 8 in K169 and  K172   PgR R12/c4 use 3, and on K172 use 7   Ki67 weak on K169\n",
    "\n",
    "PgR is suspect on NP005 group / ER use small nucleus\n",
    "\n",
    "PCNA weak on SD51   None of proliferation are great on SD51, K153, K169 (PCNA, pHH3, pRB - maybe diff on bxs)\n",
    "\n",
    "PCNA better on K172 and K174 CD20 weak on K169 CD3 weak on K153, FAILED on K172\n",
    "\n",
    "CD4 worked on all - use by itself?  CD45 - good on SD51, K174, okay on K169, bad on K153 and K172 (high epitelial non-specific staining)\n",
    "possible idea - use a different metric than mean intensity for K153/K172- stianing is not as continuous. ilastik? nuclear morphology?\n",
    "\n",
    "CD68 solid CD8 bad on SD51, also bad on K153, good on K169, pretty good on K174, okay on K172 but has nuclear background\n",
    "\n",
    "FoxP3 solid   GRNZB consistient   PD1 good (SD51 slightly worse however)   CK8 really bad on SD51, also bad on K174\n",
    "\n",
    "CK17 bad on K153 H3K27 is bad in most, except K153   H3K4 is stable in all\n",
    "\n",
    "LamAC good in all except K169   K153 - scene 6 R11 out of focus   pS6RP - K172/K169/SD51 looks like unquenched something else ...\n",
    "\n",
    "not working in controls : cPARP, 53BP1 (nuclear staining, no apparent foci), pAKT, pERK, PDGFRa, EGFR (maybe negative in HER2B tma), AR, BMP2 (staining most nuclei), HIF1a\n",
    "\n",
    "ColI is too uneven (NP005, others)\n",
    "\n",
    "CD8 failed on NP034 (repeats): prioritize original data when exists\n",
    "use CD3+ CD4- for CD8t cells in these B repeats\n",
    "\n",
    "Update notes 2020-10-21:\n",
    "Substitute EGFR for any/all CD44\n",
    "\n",
    "NP025 is special: no HER2 mem, CD44 or Vim nuc adj2\n",
    "\n",
    "\n",
    "I used Napari to quantify remaining signal in all panels that had CK7 > Vim order % unquenched:\n",
    "NP013 -20 : 25%\n",
    "NP021-28: 0%\n",
    "NP029-36: 15%\n",
    "B repeats: 1%\n"
   ]
  },
  {
   "cell_type": "code",
   "execution_count": null,
   "metadata": {},
   "outputs": [],
   "source": [
    "#load cmif libraries\n",
    "os.chdir('/mnt/c/Users/engje/Documents/Data/')\n",
    "from cmif.mplex_image import visualize as viz, process, preprocess"
   ]
  },
  {
   "cell_type": "code",
   "execution_count": null,
   "metadata": {},
   "outputs": [],
   "source": [
    "#set location of files\n",
    "rootdir = r'/mnt/c/Users/engje/Documents/Data/2020/20200706_NP001-36/HER2_heterogeneity_2021/cycIF'\n",
    "# go to location of files\n",
    "os.chdir(rootdir)"
   ]
  },
  {
   "cell_type": "code",
   "execution_count": null,
   "metadata": {},
   "outputs": [],
   "source": [
    "os.chdir(f'./data_new')\n",
    "df_file = pd.DataFrame(index=os.listdir())\n",
    "df_file = df_file[df_file.index.str.contains('Filtered')]\n",
    "df_file['tissue'] = [item.split('_')[1] for item in df_file.index]\n",
    "df_file['dapi'] = ['DAPI' + item.split('y_DAPI')[1].split('.')[0] for item in df_file.index]"
   ]
  },
  {
   "cell_type": "code",
   "execution_count": null,
   "metadata": {},
   "outputs": [],
   "source": [
    "# 3 define samples to work with\n",
    "#ls_sample = ['Her2B-K153','HER2B-K169','HER2B-K172','HER2B-K174','Her2b-SD51']\n",
    "\n",
    "ls_sample = df_file.tissue.tolist()\n",
    "#ls_sample = ['HER2B-K174']\n",
    "d_dapi = dict(zip(df_file.tissue.tolist(),df_file.dapi.tolist()))\n",
    "\n",
    "d_combos = {\n",
    "        'Stromal':{'PDPN','Vim','CD31','aSMA','ColI'}, #,'ColIV'\n",
    "        'Tumor':{'HER2','ER','Ecad','CD44','PgR','EGFR'}, #,'AR'\n",
    "        'Immune':{'CD45','CD20','CD68','PD1', 'CD8', 'CD4','CD3','GRNZB'},#'FoxP3',\n",
    "        'Differentiation':{'CK7','CK19','CK8','CK14','CK17','CK5','Vim','Ecad'},\n",
    "        'ProlifNucTrans':{'LamB1', 'LamAC','H3K27','H3K4','pS6RP','Ki67','PCNA','pRB'},\n",
    "    }\n",
    "\n",
    "# markers common\n",
    "#PCNA,CD8,PD1,CK19 CK5,HER2,ER,CD45,aSMA,CD68,CD4,Ecad,Vim,AR,CD31,CD44,CK7,CK14,Ki67,PgR,pS6RP,FoxP3,CD20,\n",
    "#CK17,EGFR,GRNZB,H3K27,PDPN,pAKT,ColI,CK8,pRB,LamAC,LamB1,H3K4,ColIV,CD3\n"
   ]
  },
  {
   "cell_type": "code",
   "execution_count": null,
   "metadata": {},
   "outputs": [],
   "source": [
    "#too big\n",
    "'''\n",
    "ls_drop = ['RAD51', 'DAPI9', 'R0Qc2', 'R0c2', 'DAPI6Q', 'cPARP', 'R12Qc2', 'panCK', 'DAPI4', 'R0Qc3', 'DAPI8Q', 'LamB1', 'ColIV', 'DAPI2', 'R0Qc4', 'gH2AX', 'PDGFRa', 'DAPI11', 'R10Qc3', 'DAPI12', 'R10Qc5', 'DAPI1', 'R5Qc5', 'R10Qc2', 'Glut1', 'LamB2', 'R0Qc5', 'CD8b', 'DAPI5', 'DAPI0', 'Bcl2', 'R12Qc5', 'pERK', 'HIF1a', 'DAPI10Q', 'DAPI12Q', 'pAKT', 'BMP2', 'R0c5', 'CoxIV', 'DAPI3', 'R5Qc3', 'BMP4', 'DAPI6', 'DAPI10', '53BP1', 'pHH3', 'R0c3', 'AR', 'R0c4', 'CSF1R', 'DAPI7', 'DAPI11Q', 'R12Qc4', 'R5Qc2', 'DAPI5Q', 'R12Qc3', 'R5Qc4', 'R10Qc4', 'DAPI8', 'S100']\n",
    "ls_big = ['HER2B-K169','HER2B-K172']\n",
    "ls_big = ['Her2b-SD51','HER2B-K174','Her2B-K153']\n",
    "for s_sample in ls_big:\n",
    "    print(f'loading {s_sample}')\n",
    "    df_big = pd.read_csv(f'{rootdir}/data_new/features_{s_sample}_FilteredMeanIntensity_{d_dapi[s_sample]}_big.csv', index_col=0)\n",
    "    for s_drop in ls_drop:\n",
    "        df_big.columns[df_big.columns.str.contains(f'{s_drop}_')]\n",
    "        df_big = df_big.drop(df_big.columns[df_big.columns.str.contains(f'{s_drop}_')],axis=1)\n",
    "    df_big.to_csv(f'{rootdir}/data_new/features_{s_sample}_FilteredMeanIntensity_{d_dapi[s_sample]}.csv')\n",
    "'''"
   ]
  },
  {
   "cell_type": "code",
   "execution_count": 49,
   "metadata": {},
   "outputs": [
    {
     "name": "stdout",
     "output_type": "stream",
     "text": [
      "loading NP011\n",
      "loading NP012\n",
      "loading NP013\n",
      "loading NP014\n",
      "loading NP015\n",
      "loading NP016\n",
      "loading NP017\n",
      "loading NP018\n",
      "loading NP019\n",
      "loading NP020\n",
      "loading NP021\n",
      "loading NP022\n",
      "loading NP023\n",
      "loading NP024\n",
      "loading NP025B\n",
      "loading NP026\n",
      "loading NP027\n",
      "loading NP028\n",
      "loading NP029\n",
      "loading NP030B\n",
      "loading NP031\n",
      "loading NP032\n",
      "loading NP033B\n",
      "loading NP034\n",
      "loading NP035\n",
      "loading NP036\n"
     ]
    }
   ],
   "source": [
    "df_mi = pd.DataFrame()\n",
    "df_xy = pd.DataFrame()\n",
    "df_edge = pd.DataFrame()\n",
    "\n",
    "for s_sample in ls_sample:\n",
    "    print(f'loading {s_sample}')\n",
    "    df_mi = df_mi.append(pd.read_csv(f'{rootdir}/data_new/features_{s_sample}_FilteredMeanIntensity_{d_dapi[s_sample]}.csv', index_col=0))\n",
    "    df_xy = df_xy.append(pd.read_csv(f'{rootdir}/data_new/features_{s_sample}_CentroidXY.csv',index_col=0))\n",
    "    df_edge = df_edge.append(pd.read_csv(f'{rootdir}/data_new/features_{s_sample}_EdgeCells31pixels_CentroidXY.csv',index_col=0))\n",
    "    #df_edge = df_edge.append(pd.read_csv(f'{rootdir}/data_new/features_{s_sample}_EdgeCells308pixels_CentroidXY.csv',index_col=0))\n",
    "    #df_edge = df_edge.append(pd.read_csv(f'{rootdir}/data_new/features_{s_sample}_EdgeCells62pixels_CentroidXY.csv',index_col=0))"
   ]
  },
  {
   "cell_type": "code",
   "execution_count": 50,
   "metadata": {},
   "outputs": [],
   "source": [
    "#df_edge.to_csv(f'20201024_{s_sample}_edge62_CentroidXY.csv')\n",
    "#df_edge.to_csv(f'20201024_{s_sample}_edge308_CentroidXY.csv')\n",
    "#df_edge.to_csv(f'20201024_{s_sample}_edge31_CentroidXY.csv')"
   ]
  },
  {
   "cell_type": "code",
   "execution_count": 51,
   "metadata": {},
   "outputs": [],
   "source": [
    "df_mi['slide'] = [item.split('_')[0] for item in df_mi.index]\n",
    "df_mi['scene'] = [item.split('_')[1] for item in df_mi.index]\n",
    "    \n",
    "#add scene\n",
    "df_mi['slide_scene'] = df_mi.slide + '_' + df_mi.scene\n",
    "\n",
    "# replace NP025 Nas\n",
    "df_mi.loc[df_mi.slide=='NP025B','HER2_cellmem25'] = df_mi.loc[df_mi.slide=='NP025B','HER2_cytoplasm']\n"
   ]
  },
  {
   "cell_type": "code",
   "execution_count": 52,
   "metadata": {},
   "outputs": [],
   "source": [
    "#deal with CK7 to Vim bleedthrough\n",
    "#NP013 -20 : 25%\n",
    "#NP021-28: 0%\n",
    "#NP029-36: 15%\n",
    "#B repeats: 1%\n",
    "ls_13_20 = ['NP013_scene001', 'NP014_scene001', 'NP014_scene002', 'NP015_scene001', 'NP016_scene001', 'NP017_scene001', 'NP018_scene001', 'NP019_scene001', 'NP020_scene001',]\n",
    "ls_29_36 = ['NP029_scene001', 'NP029_scene002', 'NP030B_scene1', 'NP030B_scene2', 'NP031_scene001', 'NP032_scene001', 'NP032_scene002', 'NP034_scene001', 'NP034_scene002', 'NP035_scene001', 'NP035_scene002', 'NP036_scene001']\n",
    "if df_mi.columns.str.contains('Vim_adj').sum()==0:\n",
    "    df_mi.loc[df_mi.slide_scene.isin(ls_13_20),'Vim_adj'] = df_mi.loc[df_mi.slide_scene.isin(ls_13_20),'Vim_perinuc5'] - 0.25*(df_mi.loc[df_mi.slide_scene.isin(ls_13_20),'CK7_cytoplasm'])\n",
    "    df_mi.loc[df_mi.slide_scene.isin(ls_29_36),'Vim_adj'] = df_mi.loc[df_mi.slide_scene.isin(ls_29_36),'Vim_perinuc5'] - 0.15*(df_mi.loc[df_mi.slide_scene.isin(ls_29_36),'CK7_cytoplasm'])\n",
    "if df_mi.columns.str.contains('Vim_adj').sum()==1:\n",
    "    df_mi.loc[df_mi.slide_scene.isin(ls_13_20),'Vim_perinuc5'] = df_mi.loc[df_mi.slide_scene.isin(ls_13_20),'Vim_adj'] \n",
    "    df_mi.loc[df_mi.slide_scene.isin(ls_29_36),'Vim_perinuc5'] = df_mi.loc[df_mi.slide_scene.isin(ls_29_36),'Vim_adj'] \n",
    "#check\n",
    "#df_mi.loc[df_mi.slide_scene.isin(ls_13_20),'Vim_adj']\n",
    "#df_mi.loc[df_mi.slide_scene.isin(ls_29_36),'Vim_adj']\n",
    "#df_mi.loc[df_mi.slide_scene.isin(ls_29_36),'Vim_perinuc5']"
   ]
  },
  {
   "cell_type": "code",
   "execution_count": 53,
   "metadata": {},
   "outputs": [],
   "source": [
    "#filter rows\n",
    "df_filter_mi = df_mi[(df_mi.slide_scene!='NP005_scene001') & (df_mi.slide_scene!='NP009_scene003') & (df_mi.slide_scene!='NP030_scene2') & (~df_mi.index.isin(df_edge.index))]\n",
    "#df_filter_mi = df_mi[(df_mi.slide_scene!='NP005_scene001') & (df_mi.slide_scene!='NP009_scene003') & (df_mi.slide_scene!='NP030_scene2')]"
   ]
  },
  {
   "cell_type": "code",
   "execution_count": 54,
   "metadata": {},
   "outputs": [],
   "source": [
    "#filter columns\n",
    "df_filter_mi = df_filter_mi.drop(['HER2_cytoplasm','Vim_adj'],axis=1)"
   ]
  },
  {
   "cell_type": "code",
   "execution_count": 55,
   "metadata": {},
   "outputs": [],
   "source": [
    "#load manual thresholds\n",
    "os.chdir(rootdir)\n",
    "s_sample = 'NP001-36_TMAs'\n",
    "df_thresh = viz.load_thresh_csv(s_sample)"
   ]
  },
  {
   "cell_type": "markdown",
   "metadata": {},
   "source": [
    "# Calculate Positive"
   ]
  },
  {
   "cell_type": "code",
   "execution_count": null,
   "metadata": {},
   "outputs": [],
   "source": [
    "#threshold\n",
    "d_thresh_record,df_pos = viz.threshold_postive(df_thresh,df_filter_mi)"
   ]
  },
  {
   "cell_type": "code",
   "execution_count": null,
   "metadata": {},
   "outputs": [],
   "source": [
    "#visualize positive scatterplots\n",
    "%matplotlib inline\n",
    "#markers by type\n",
    "s_type = 'Stromal'\n",
    "#s_type = 'Tumor'\n",
    "#s_type = 'Immune'\n",
    "#s_type = 'Differentiation'\n",
    "\n",
    "ls_fig = viz.plot_positive(s_type,d_combos,df_pos,d_thresh_record,df_xy)\n",
    "for fig in ls_fig:\n",
    "    plt.show(fig)\n",
    "    break"
   ]
  },
  {
   "cell_type": "markdown",
   "metadata": {},
   "source": [
    "## Run When Done\n",
    "\n",
    "Output the data and final thresholds"
   ]
  },
  {
   "cell_type": "code",
   "execution_count": null,
   "metadata": {},
   "outputs": [],
   "source": [
    "#fix CD8 failure with CD3 - CD4 for B repeats\n",
    "ls_b = ['NP025B','NP030B','NP033B']\n",
    "print(df_pos.loc[df_filter_mi.slide.isin(ls_b),'CD8_perinuc5'].sum())\n",
    "print(df_pos.loc[df_filter_mi.slide.isin(ls_b),'CD4_perinuc5'].sum())\n",
    "print(df_pos.loc[df_filter_mi.slide.isin(ls_b),'CD3_perinuc5'].sum())\n",
    "sum(df_pos.loc[df_filter_mi.slide.isin(ls_b),'CD3_perinuc5'] & ~df_pos.loc[df_filter_mi.slide.isin(ls_b),'CD4_perinuc5'])\n",
    "df_pos.loc[df_filter_mi.slide.isin(ls_b),'CD8_perinuc5'] = df_pos.loc[df_filter_mi.slide.isin(ls_b),'CD3_perinuc5'] & ~df_pos.loc[df_filter_mi.slide.isin(ls_b),'CD4_perinuc5']\n",
    "print(df_pos.loc[df_filter_mi.slide.isin(ls_b),'CD8_perinuc5'].sum())"
   ]
  },
  {
   "cell_type": "code",
   "execution_count": null,
   "metadata": {},
   "outputs": [],
   "source": [
    "s_sample  = 'NP001-36'\n",
    "#s_sample = 'HER2B-K174'"
   ]
  },
  {
   "cell_type": "code",
   "execution_count": null,
   "metadata": {},
   "outputs": [],
   "source": [
    "df_pos.columns =[item.replace('nuclei','Nuclei') for item in df_pos.columns]\n",
    "df_pos.columns =[item.replace('perinuc5','Ring') for item in df_pos.columns]\n",
    "df_pos.columns =[item.replace('cytoplasm','Ring') for item in df_pos.columns]\n",
    "df_pos.columns =[item.replace('cellmem25','Ring') for item in df_pos.columns]\n",
    "\n",
    "#add DAPI_X and Y\n",
    "df_pos_manual = pd.merge(df_pos,df_xy.loc[:,['DAPI_X','DAPI_Y']],left_index=True,right_index=True)\n",
    "df_pos_manual = df_pos_manual.drop(['LamB2_Nuclei','LamB1_Nuclei','gH2AX_Nuclei','pHH3_Nuclei','CoxIV_Ring','Glut1_Ring','AR_Nuclei','ColIV_Ring'],axis=1) #'EGFR_Ring',\n",
    "\n",
    "#df_pos_manual.to_csv(f'20201021_{s_sample}_ManualPositive_edge31.csv')\n"
   ]
  },
  {
   "cell_type": "code",
   "execution_count": null,
   "metadata": {},
   "outputs": [],
   "source": [
    "print(len(set(df_pos_manual.columns)) - 2)\n",
    "set(df_pos_manual.columns)"
   ]
  },
  {
   "cell_type": "code",
   "execution_count": null,
   "metadata": {},
   "outputs": [],
   "source": [
    "\n",
    "#df_filter_mi.to_csv(f'20201021_{s_sample}_MeanIntensity_edge31.csv')\n"
   ]
  },
  {
   "cell_type": "code",
   "execution_count": null,
   "metadata": {},
   "outputs": [],
   "source": [
    "\n",
    "#df_xy.to_csv(f'20201021_{s_sample}_CentroidXY.csv')"
   ]
  },
  {
   "cell_type": "code",
   "execution_count": null,
   "metadata": {},
   "outputs": [],
   "source": [
    "#df_pos.isna().sum()"
   ]
  },
  {
   "cell_type": "code",
   "execution_count": null,
   "metadata": {},
   "outputs": [],
   "source": [
    "df_pos_manual.drop(['DAPI_X','DAPI_Y'],axis=1).sum()"
   ]
  },
  {
   "cell_type": "code",
   "execution_count": null,
   "metadata": {},
   "outputs": [],
   "source": []
  }
 ],
 "metadata": {
  "kernelspec": {
   "display_name": "Python 3",
   "language": "python",
   "name": "python3"
  },
  "language_info": {
   "codemirror_mode": {
    "name": "ipython",
    "version": 3
   },
   "file_extension": ".py",
   "mimetype": "text/x-python",
   "name": "python",
   "nbconvert_exporter": "python",
   "pygments_lexer": "ipython3",
   "version": "3.7.6"
  }
 },
 "nbformat": 4,
 "nbformat_minor": 2
}
